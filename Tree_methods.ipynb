{
 "cells": [
  {
   "cell_type": "markdown",
   "metadata": {},
   "source": [
    "# Import Data"
   ]
  },
  {
   "cell_type": "code",
   "execution_count": 11,
   "metadata": {},
   "outputs": [],
   "source": [
    "# importing packages\n",
    "import numpy as np\n",
    "import pandas as pd\n",
    "\n",
    "import sklearn.preprocessing as skl_pre\n",
    "import sklearn.linear_model as skl_lm\n",
    "import sklearn.discriminant_analysis as skl_da\n",
    "import sklearn.neighbors as skl_nb\n",
    "\n",
    "from sklearn import tree\n",
    "from sklearn.ensemble import BaggingClassifier, RandomForestClassifier\n",
    "\n",
    "import matplotlib.pyplot as plt\n",
    "\n",
    "from sklearn.model_selection import train_test_split\n",
    "\n",
    "import graphviz"
   ]
  },
  {
   "cell_type": "code",
   "execution_count": 5,
   "metadata": {},
   "outputs": [],
   "source": [
    "data = pd.read_csv('data/training_data.csv')"
   ]
  },
  {
   "cell_type": "code",
   "execution_count": 6,
   "metadata": {},
   "outputs": [
    {
     "name": "stdout",
     "output_type": "stream",
     "text": [
      "<class 'pandas.core.frame.DataFrame'>\n",
      "RangeIndex: 1600 entries, 0 to 1599\n",
      "Data columns (total 16 columns):\n",
      " #   Column          Non-Null Count  Dtype  \n",
      "---  ------          --------------  -----  \n",
      " 0   hour_of_day     1600 non-null   int64  \n",
      " 1   day_of_week     1600 non-null   int64  \n",
      " 2   month           1600 non-null   int64  \n",
      " 3   holiday         1600 non-null   int64  \n",
      " 4   weekday         1600 non-null   int64  \n",
      " 5   summertime      1600 non-null   int64  \n",
      " 6   temp            1600 non-null   float64\n",
      " 7   dew             1600 non-null   float64\n",
      " 8   humidity        1600 non-null   float64\n",
      " 9   precip          1600 non-null   float64\n",
      " 10  snow            1600 non-null   int64  \n",
      " 11  snowdepth       1600 non-null   float64\n",
      " 12  windspeed       1600 non-null   float64\n",
      " 13  cloudcover      1600 non-null   float64\n",
      " 14  visibility      1600 non-null   float64\n",
      " 15  increase_stock  1600 non-null   object \n",
      "dtypes: float64(8), int64(7), object(1)\n",
      "memory usage: 200.1+ KB\n"
     ]
    }
   ],
   "source": [
    "data.info()"
   ]
  },
  {
   "cell_type": "markdown",
   "metadata": {},
   "source": [
    "# Preprocess"
   ]
  },
  {
   "cell_type": "code",
   "execution_count": 7,
   "metadata": {},
   "outputs": [],
   "source": [
    "X = data.drop(['dew','snow','weekday','increase_stock'],axis=1)\n",
    "y = data[['increase_stock']]\n",
    "\n",
    "X_train, X_test, y_train, y_test = train_test_split(X, y, test_size=0.30, random_state=1337)"
   ]
  },
  {
   "cell_type": "code",
   "execution_count": 8,
   "metadata": {},
   "outputs": [],
   "source": [
    "def print_metrics(model,X_test,y_test):\n",
    "  y_preds = model.predict(X_test)\n",
    "  y_test = np.array(y_test).reshape(-1)\n",
    "  #Confusion Matrix\n",
    "  cross_vals=pd.crosstab(y_preds, y_test)\n",
    "  print(cross_vals)\n",
    "  #True positive (Estimated true and is true)\n",
    "  TP = cross_vals.iloc[1,1]\n",
    "  #False positive (Estimated true and is false)\n",
    "  FP = cross_vals.iloc[1,0]\n",
    "  #True negative (Estiamted false and is false)\n",
    "  TN = cross_vals.iloc[0,0]\n",
    "  #False negative (Estimated false and is true)\n",
    "  FN = cross_vals.iloc[0,1]\n",
    "  missclassification_rate = np.mean([y_preds != y_test])\n",
    "  print(f\"Missclassification {missclassification_rate}\")\n",
    "  accuracy = 1-missclassification_rate\n",
    "  print(f\"Accuracy {accuracy}\")\n",
    "  recall = TP/(TP+FN)\n",
    "  print(f\"Recall {recall}\")\n",
    "  precision = TP/(TP+FP)\n",
    "  print(f\"Precision {precision}\")\n",
    "  specificity = TN/(TN+FP)\n",
    "  print(f\"Specificity {specificity}\")"
   ]
  },
  {
   "cell_type": "markdown",
   "metadata": {},
   "source": [
    "# Model"
   ]
  },
  {
   "cell_type": "code",
   "execution_count": 20,
   "metadata": {},
   "outputs": [
    {
     "name": "stdout",
     "output_type": "stream",
     "text": [
      "col_0             high_bike_demand  low_bike_demand\n",
      "row_0                                              \n",
      "high_bike_demand                76               69\n",
      "low_bike_demand                 12              323\n",
      "Missclassification 0.16875\n",
      "Accuracy 0.83125\n",
      "Recall 0.8239795918367347\n",
      "Precision 0.9641791044776119\n",
      "Specificity 0.8636363636363636\n"
     ]
    }
   ],
   "source": [
    "# model = skl_lm.LogisticRegression(solver='liblinear')\n",
    "model = tree.DecisionTreeClassifier(max_depth=3)\n",
    "\n",
    "model.fit(X_train, y_train)\n",
    "\n",
    "print_metrics(model, X_test, y_test)"
   ]
  },
  {
   "cell_type": "code",
   "execution_count": 21,
   "metadata": {},
   "outputs": [
    {
     "data": {
      "image/svg+xml": [
       "<?xml version=\"1.0\" encoding=\"UTF-8\" standalone=\"no\"?>\n",
       "<!DOCTYPE svg PUBLIC \"-//W3C//DTD SVG 1.1//EN\"\n",
       " \"http://www.w3.org/Graphics/SVG/1.1/DTD/svg11.dtd\">\n",
       "<!-- Generated by graphviz version 2.50.0 (0)\n",
       " -->\n",
       "<!-- Title: Tree Pages: 1 -->\n",
       "<svg width=\"1333pt\" height=\"441pt\"\n",
       " viewBox=\"0.00 0.00 1333.00 440.50\" xmlns=\"http://www.w3.org/2000/svg\" xmlns:xlink=\"http://www.w3.org/1999/xlink\">\n",
       "<g id=\"graph0\" class=\"graph\" transform=\"scale(1 1) rotate(0) translate(4 436.5)\">\n",
       "<title>Tree</title>\n",
       "<polygon fill=\"white\" stroke=\"transparent\" points=\"-4,4 -4,-436.5 1329,-436.5 1329,4 -4,4\"/>\n",
       "<!-- 0 -->\n",
       "<g id=\"node1\" class=\"node\">\n",
       "<title>0</title>\n",
       "<path fill=\"#64b2eb\" stroke=\"black\" d=\"M638,-432.5C638,-432.5 489,-432.5 489,-432.5 483,-432.5 477,-426.5 477,-420.5 477,-420.5 477,-361.5 477,-361.5 477,-355.5 483,-349.5 489,-349.5 489,-349.5 638,-349.5 638,-349.5 644,-349.5 650,-355.5 650,-361.5 650,-361.5 650,-420.5 650,-420.5 650,-426.5 644,-432.5 638,-432.5\"/>\n",
       "<text text-anchor=\"middle\" x=\"563.5\" y=\"-417.3\" font-family=\"Helvetica,sans-Serif\" font-size=\"14.00\">hour_of_day &lt;= 7.5</text>\n",
       "<text text-anchor=\"middle\" x=\"563.5\" y=\"-402.3\" font-family=\"Helvetica,sans-Serif\" font-size=\"14.00\">gini = 0.293</text>\n",
       "<text text-anchor=\"middle\" x=\"563.5\" y=\"-387.3\" font-family=\"Helvetica,sans-Serif\" font-size=\"14.00\">samples = 100.0%</text>\n",
       "<text text-anchor=\"middle\" x=\"563.5\" y=\"-372.3\" font-family=\"Helvetica,sans-Serif\" font-size=\"14.00\">value = [0.179, 0.821]</text>\n",
       "<text text-anchor=\"middle\" x=\"563.5\" y=\"-357.3\" font-family=\"Helvetica,sans-Serif\" font-size=\"14.00\">class = low_bike_demand</text>\n",
       "</g>\n",
       "<!-- 1 -->\n",
       "<g id=\"node2\" class=\"node\">\n",
       "<title>1</title>\n",
       "<path fill=\"#3a9ee5\" stroke=\"black\" d=\"M447,-313.5C447,-313.5 298,-313.5 298,-313.5 292,-313.5 286,-307.5 286,-301.5 286,-301.5 286,-242.5 286,-242.5 286,-236.5 292,-230.5 298,-230.5 298,-230.5 447,-230.5 447,-230.5 453,-230.5 459,-236.5 459,-242.5 459,-242.5 459,-301.5 459,-301.5 459,-307.5 453,-313.5 447,-313.5\"/>\n",
       "<text text-anchor=\"middle\" x=\"372.5\" y=\"-298.3\" font-family=\"Helvetica,sans-Serif\" font-size=\"14.00\">hour_of_day &lt;= 6.5</text>\n",
       "<text text-anchor=\"middle\" x=\"372.5\" y=\"-283.3\" font-family=\"Helvetica,sans-Serif\" font-size=\"14.00\">gini = 0.01</text>\n",
       "<text text-anchor=\"middle\" x=\"372.5\" y=\"-268.3\" font-family=\"Helvetica,sans-Serif\" font-size=\"14.00\">samples = 34.9%</text>\n",
       "<text text-anchor=\"middle\" x=\"372.5\" y=\"-253.3\" font-family=\"Helvetica,sans-Serif\" font-size=\"14.00\">value = [0.005, 0.995]</text>\n",
       "<text text-anchor=\"middle\" x=\"372.5\" y=\"-238.3\" font-family=\"Helvetica,sans-Serif\" font-size=\"14.00\">class = low_bike_demand</text>\n",
       "</g>\n",
       "<!-- 0&#45;&gt;1 -->\n",
       "<g id=\"edge1\" class=\"edge\">\n",
       "<title>0&#45;&gt;1</title>\n",
       "<path fill=\"none\" stroke=\"black\" d=\"M497.23,-349.41C481.09,-339.52 463.7,-328.87 447.19,-318.75\"/>\n",
       "<polygon fill=\"black\" stroke=\"black\" points=\"449,-315.76 438.65,-313.52 445.35,-321.73 449,-315.76\"/>\n",
       "<text text-anchor=\"middle\" x=\"444.49\" y=\"-334.13\" font-family=\"Helvetica,sans-Serif\" font-size=\"14.00\">True</text>\n",
       "</g>\n",
       "<!-- 6 -->\n",
       "<g id=\"node7\" class=\"node\">\n",
       "<title>6</title>\n",
       "<path fill=\"#83c2ef\" stroke=\"black\" d=\"M831,-313.5C831,-313.5 682,-313.5 682,-313.5 676,-313.5 670,-307.5 670,-301.5 670,-301.5 670,-242.5 670,-242.5 670,-236.5 676,-230.5 682,-230.5 682,-230.5 831,-230.5 831,-230.5 837,-230.5 843,-236.5 843,-242.5 843,-242.5 843,-301.5 843,-301.5 843,-307.5 837,-313.5 831,-313.5\"/>\n",
       "<text text-anchor=\"middle\" x=\"756.5\" y=\"-298.3\" font-family=\"Helvetica,sans-Serif\" font-size=\"14.00\">hour_of_day &lt;= 19.5</text>\n",
       "<text text-anchor=\"middle\" x=\"756.5\" y=\"-283.3\" font-family=\"Helvetica,sans-Serif\" font-size=\"14.00\">gini = 0.396</text>\n",
       "<text text-anchor=\"middle\" x=\"756.5\" y=\"-268.3\" font-family=\"Helvetica,sans-Serif\" font-size=\"14.00\">samples = 65.1%</text>\n",
       "<text text-anchor=\"middle\" x=\"756.5\" y=\"-253.3\" font-family=\"Helvetica,sans-Serif\" font-size=\"14.00\">value = [0.272, 0.728]</text>\n",
       "<text text-anchor=\"middle\" x=\"756.5\" y=\"-238.3\" font-family=\"Helvetica,sans-Serif\" font-size=\"14.00\">class = low_bike_demand</text>\n",
       "</g>\n",
       "<!-- 0&#45;&gt;6 -->\n",
       "<g id=\"edge6\" class=\"edge\">\n",
       "<title>0&#45;&gt;6</title>\n",
       "<path fill=\"none\" stroke=\"black\" d=\"M630.46,-349.41C646.78,-339.52 664.34,-328.87 681.03,-318.75\"/>\n",
       "<polygon fill=\"black\" stroke=\"black\" points=\"682.92,-321.7 689.66,-313.52 679.29,-315.71 682.92,-321.7\"/>\n",
       "<text text-anchor=\"middle\" x=\"683.71\" y=\"-334.1\" font-family=\"Helvetica,sans-Serif\" font-size=\"14.00\">False</text>\n",
       "</g>\n",
       "<!-- 2 -->\n",
       "<g id=\"node3\" class=\"node\">\n",
       "<title>2</title>\n",
       "<path fill=\"#399de5\" stroke=\"black\" d=\"M161,-68C161,-68 12,-68 12,-68 6,-68 0,-62 0,-56 0,-56 0,-12 0,-12 0,-6 6,0 12,0 12,0 161,0 161,0 167,0 173,-6 173,-12 173,-12 173,-56 173,-56 173,-62 167,-68 161,-68\"/>\n",
       "<text text-anchor=\"middle\" x=\"86.5\" y=\"-52.8\" font-family=\"Helvetica,sans-Serif\" font-size=\"14.00\">gini = 0.0</text>\n",
       "<text text-anchor=\"middle\" x=\"86.5\" y=\"-37.8\" font-family=\"Helvetica,sans-Serif\" font-size=\"14.00\">samples = 30.3%</text>\n",
       "<text text-anchor=\"middle\" x=\"86.5\" y=\"-22.8\" font-family=\"Helvetica,sans-Serif\" font-size=\"14.00\">value = [0.0, 1.0]</text>\n",
       "<text text-anchor=\"middle\" x=\"86.5\" y=\"-7.8\" font-family=\"Helvetica,sans-Serif\" font-size=\"14.00\">class = low_bike_demand</text>\n",
       "</g>\n",
       "<!-- 1&#45;&gt;2 -->\n",
       "<g id=\"edge2\" class=\"edge\">\n",
       "<title>1&#45;&gt;2</title>\n",
       "<path fill=\"none\" stroke=\"black\" d=\"M321.41,-230.29C298.48,-212.02 276.5,-194.5 276.5,-194.5 276.5,-194.5 189.86,-121.77 133.59,-74.53\"/>\n",
       "<polygon fill=\"black\" stroke=\"black\" points=\"135.78,-71.8 125.87,-68.05 131.28,-77.16 135.78,-71.8\"/>\n",
       "</g>\n",
       "<!-- 3 -->\n",
       "<g id=\"node4\" class=\"node\">\n",
       "<title>3</title>\n",
       "<path fill=\"#41a1e6\" stroke=\"black\" d=\"M447,-194.5C447,-194.5 298,-194.5 298,-194.5 292,-194.5 286,-188.5 286,-182.5 286,-182.5 286,-123.5 286,-123.5 286,-117.5 292,-111.5 298,-111.5 298,-111.5 447,-111.5 447,-111.5 453,-111.5 459,-117.5 459,-123.5 459,-123.5 459,-182.5 459,-182.5 459,-188.5 453,-194.5 447,-194.5\"/>\n",
       "<text text-anchor=\"middle\" x=\"372.5\" y=\"-179.3\" font-family=\"Helvetica,sans-Serif\" font-size=\"14.00\">humidity &lt;= 78.755</text>\n",
       "<text text-anchor=\"middle\" x=\"372.5\" y=\"-164.3\" font-family=\"Helvetica,sans-Serif\" font-size=\"14.00\">gini = 0.074</text>\n",
       "<text text-anchor=\"middle\" x=\"372.5\" y=\"-149.3\" font-family=\"Helvetica,sans-Serif\" font-size=\"14.00\">samples = 4.6%</text>\n",
       "<text text-anchor=\"middle\" x=\"372.5\" y=\"-134.3\" font-family=\"Helvetica,sans-Serif\" font-size=\"14.00\">value = [0.038, 0.962]</text>\n",
       "<text text-anchor=\"middle\" x=\"372.5\" y=\"-119.3\" font-family=\"Helvetica,sans-Serif\" font-size=\"14.00\">class = low_bike_demand</text>\n",
       "</g>\n",
       "<!-- 1&#45;&gt;3 -->\n",
       "<g id=\"edge3\" class=\"edge\">\n",
       "<title>1&#45;&gt;3</title>\n",
       "<path fill=\"none\" stroke=\"black\" d=\"M372.5,-230.41C372.5,-222.15 372.5,-213.36 372.5,-204.8\"/>\n",
       "<polygon fill=\"black\" stroke=\"black\" points=\"376,-204.52 372.5,-194.52 369,-204.52 376,-204.52\"/>\n",
       "</g>\n",
       "<!-- 4 -->\n",
       "<g id=\"node5\" class=\"node\">\n",
       "<title>4</title>\n",
       "<path fill=\"#4da7e8\" stroke=\"black\" d=\"M352,-68C352,-68 203,-68 203,-68 197,-68 191,-62 191,-56 191,-56 191,-12 191,-12 191,-6 197,0 203,0 203,0 352,0 352,0 358,0 364,-6 364,-12 364,-12 364,-56 364,-56 364,-62 358,-68 352,-68\"/>\n",
       "<text text-anchor=\"middle\" x=\"277.5\" y=\"-52.8\" font-family=\"Helvetica,sans-Serif\" font-size=\"14.00\">gini = 0.165</text>\n",
       "<text text-anchor=\"middle\" x=\"277.5\" y=\"-37.8\" font-family=\"Helvetica,sans-Serif\" font-size=\"14.00\">samples = 2.0%</text>\n",
       "<text text-anchor=\"middle\" x=\"277.5\" y=\"-22.8\" font-family=\"Helvetica,sans-Serif\" font-size=\"14.00\">value = [0.091, 0.909]</text>\n",
       "<text text-anchor=\"middle\" x=\"277.5\" y=\"-7.8\" font-family=\"Helvetica,sans-Serif\" font-size=\"14.00\">class = low_bike_demand</text>\n",
       "</g>\n",
       "<!-- 3&#45;&gt;4 -->\n",
       "<g id=\"edge4\" class=\"edge\">\n",
       "<title>3&#45;&gt;4</title>\n",
       "<path fill=\"none\" stroke=\"black\" d=\"M339.54,-111.41C330.22,-99.93 320.08,-87.44 310.74,-75.94\"/>\n",
       "<polygon fill=\"black\" stroke=\"black\" points=\"313.45,-73.72 304.43,-68.17 308.02,-78.14 313.45,-73.72\"/>\n",
       "</g>\n",
       "<!-- 5 -->\n",
       "<g id=\"node6\" class=\"node\">\n",
       "<title>5</title>\n",
       "<path fill=\"#399de5\" stroke=\"black\" d=\"M543,-68C543,-68 394,-68 394,-68 388,-68 382,-62 382,-56 382,-56 382,-12 382,-12 382,-6 388,0 394,0 394,0 543,0 543,0 549,0 555,-6 555,-12 555,-12 555,-56 555,-56 555,-62 549,-68 543,-68\"/>\n",
       "<text text-anchor=\"middle\" x=\"468.5\" y=\"-52.8\" font-family=\"Helvetica,sans-Serif\" font-size=\"14.00\">gini = 0.0</text>\n",
       "<text text-anchor=\"middle\" x=\"468.5\" y=\"-37.8\" font-family=\"Helvetica,sans-Serif\" font-size=\"14.00\">samples = 2.7%</text>\n",
       "<text text-anchor=\"middle\" x=\"468.5\" y=\"-22.8\" font-family=\"Helvetica,sans-Serif\" font-size=\"14.00\">value = [0.0, 1.0]</text>\n",
       "<text text-anchor=\"middle\" x=\"468.5\" y=\"-7.8\" font-family=\"Helvetica,sans-Serif\" font-size=\"14.00\">class = low_bike_demand</text>\n",
       "</g>\n",
       "<!-- 3&#45;&gt;5 -->\n",
       "<g id=\"edge5\" class=\"edge\">\n",
       "<title>3&#45;&gt;5</title>\n",
       "<path fill=\"none\" stroke=\"black\" d=\"M405.81,-111.41C415.22,-99.93 425.47,-87.44 434.91,-75.94\"/>\n",
       "<polygon fill=\"black\" stroke=\"black\" points=\"437.65,-78.12 441.29,-68.17 432.24,-73.68 437.65,-78.12\"/>\n",
       "</g>\n",
       "<!-- 7 -->\n",
       "<g id=\"node8\" class=\"node\">\n",
       "<title>7</title>\n",
       "<path fill=\"#a7d4f4\" stroke=\"black\" d=\"M831,-194.5C831,-194.5 682,-194.5 682,-194.5 676,-194.5 670,-188.5 670,-182.5 670,-182.5 670,-123.5 670,-123.5 670,-117.5 676,-111.5 682,-111.5 682,-111.5 831,-111.5 831,-111.5 837,-111.5 843,-117.5 843,-123.5 843,-123.5 843,-182.5 843,-182.5 843,-188.5 837,-194.5 831,-194.5\"/>\n",
       "<text text-anchor=\"middle\" x=\"756.5\" y=\"-179.3\" font-family=\"Helvetica,sans-Serif\" font-size=\"14.00\">temp &lt;= 12.5</text>\n",
       "<text text-anchor=\"middle\" x=\"756.5\" y=\"-164.3\" font-family=\"Helvetica,sans-Serif\" font-size=\"14.00\">gini = 0.46</text>\n",
       "<text text-anchor=\"middle\" x=\"756.5\" y=\"-149.3\" font-family=\"Helvetica,sans-Serif\" font-size=\"14.00\">samples = 49.1%</text>\n",
       "<text text-anchor=\"middle\" x=\"756.5\" y=\"-134.3\" font-family=\"Helvetica,sans-Serif\" font-size=\"14.00\">value = [0.358, 0.642]</text>\n",
       "<text text-anchor=\"middle\" x=\"756.5\" y=\"-119.3\" font-family=\"Helvetica,sans-Serif\" font-size=\"14.00\">class = low_bike_demand</text>\n",
       "</g>\n",
       "<!-- 6&#45;&gt;7 -->\n",
       "<g id=\"edge7\" class=\"edge\">\n",
       "<title>6&#45;&gt;7</title>\n",
       "<path fill=\"none\" stroke=\"black\" d=\"M756.5,-230.41C756.5,-222.15 756.5,-213.36 756.5,-204.8\"/>\n",
       "<polygon fill=\"black\" stroke=\"black\" points=\"760,-204.52 756.5,-194.52 753,-204.52 760,-204.52\"/>\n",
       "</g>\n",
       "<!-- 10 -->\n",
       "<g id=\"node11\" class=\"node\">\n",
       "<title>10</title>\n",
       "<path fill=\"#3a9ee5\" stroke=\"black\" d=\"M1122,-194.5C1122,-194.5 973,-194.5 973,-194.5 967,-194.5 961,-188.5 961,-182.5 961,-182.5 961,-123.5 961,-123.5 961,-117.5 967,-111.5 973,-111.5 973,-111.5 1122,-111.5 1122,-111.5 1128,-111.5 1134,-117.5 1134,-123.5 1134,-123.5 1134,-182.5 1134,-182.5 1134,-188.5 1128,-194.5 1122,-194.5\"/>\n",
       "<text text-anchor=\"middle\" x=\"1047.5\" y=\"-179.3\" font-family=\"Helvetica,sans-Serif\" font-size=\"14.00\">temp &lt;= 26.45</text>\n",
       "<text text-anchor=\"middle\" x=\"1047.5\" y=\"-164.3\" font-family=\"Helvetica,sans-Serif\" font-size=\"14.00\">gini = 0.011</text>\n",
       "<text text-anchor=\"middle\" x=\"1047.5\" y=\"-149.3\" font-family=\"Helvetica,sans-Serif\" font-size=\"14.00\">samples = 16.0%</text>\n",
       "<text text-anchor=\"middle\" x=\"1047.5\" y=\"-134.3\" font-family=\"Helvetica,sans-Serif\" font-size=\"14.00\">value = [0.006, 0.994]</text>\n",
       "<text text-anchor=\"middle\" x=\"1047.5\" y=\"-119.3\" font-family=\"Helvetica,sans-Serif\" font-size=\"14.00\">class = low_bike_demand</text>\n",
       "</g>\n",
       "<!-- 6&#45;&gt;10 -->\n",
       "<g id=\"edge10\" class=\"edge\">\n",
       "<title>6&#45;&gt;10</title>\n",
       "<path fill=\"none\" stroke=\"black\" d=\"M843.02,-236.21C877.02,-222.54 916.19,-206.8 951.09,-192.76\"/>\n",
       "<polygon fill=\"black\" stroke=\"black\" points=\"952.84,-195.83 960.81,-188.86 950.23,-189.34 952.84,-195.83\"/>\n",
       "</g>\n",
       "<!-- 8 -->\n",
       "<g id=\"node9\" class=\"node\">\n",
       "<title>8</title>\n",
       "<path fill=\"#4fa8e8\" stroke=\"black\" d=\"M734,-68C734,-68 585,-68 585,-68 579,-68 573,-62 573,-56 573,-56 573,-12 573,-12 573,-6 579,0 585,0 585,0 734,0 734,0 740,0 746,-6 746,-12 746,-12 746,-56 746,-56 746,-62 740,-68 734,-68\"/>\n",
       "<text text-anchor=\"middle\" x=\"659.5\" y=\"-52.8\" font-family=\"Helvetica,sans-Serif\" font-size=\"14.00\">gini = 0.182</text>\n",
       "<text text-anchor=\"middle\" x=\"659.5\" y=\"-37.8\" font-family=\"Helvetica,sans-Serif\" font-size=\"14.00\">samples = 17.6%</text>\n",
       "<text text-anchor=\"middle\" x=\"659.5\" y=\"-22.8\" font-family=\"Helvetica,sans-Serif\" font-size=\"14.00\">value = [0.102, 0.898]</text>\n",
       "<text text-anchor=\"middle\" x=\"659.5\" y=\"-7.8\" font-family=\"Helvetica,sans-Serif\" font-size=\"14.00\">class = low_bike_demand</text>\n",
       "</g>\n",
       "<!-- 7&#45;&gt;8 -->\n",
       "<g id=\"edge8\" class=\"edge\">\n",
       "<title>7&#45;&gt;8</title>\n",
       "<path fill=\"none\" stroke=\"black\" d=\"M722.85,-111.41C713.33,-99.93 702.97,-87.44 693.44,-75.94\"/>\n",
       "<polygon fill=\"black\" stroke=\"black\" points=\"696.07,-73.63 687,-68.17 690.69,-78.1 696.07,-73.63\"/>\n",
       "</g>\n",
       "<!-- 9 -->\n",
       "<g id=\"node10\" class=\"node\">\n",
       "<title>9</title>\n",
       "<path fill=\"#fffefe\" stroke=\"black\" d=\"M930.5,-68C930.5,-68 776.5,-68 776.5,-68 770.5,-68 764.5,-62 764.5,-56 764.5,-56 764.5,-12 764.5,-12 764.5,-6 770.5,0 776.5,0 776.5,0 930.5,0 930.5,0 936.5,0 942.5,-6 942.5,-12 942.5,-12 942.5,-56 942.5,-56 942.5,-62 936.5,-68 930.5,-68\"/>\n",
       "<text text-anchor=\"middle\" x=\"853.5\" y=\"-52.8\" font-family=\"Helvetica,sans-Serif\" font-size=\"14.00\">gini = 0.5</text>\n",
       "<text text-anchor=\"middle\" x=\"853.5\" y=\"-37.8\" font-family=\"Helvetica,sans-Serif\" font-size=\"14.00\">samples = 31.5%</text>\n",
       "<text text-anchor=\"middle\" x=\"853.5\" y=\"-22.8\" font-family=\"Helvetica,sans-Serif\" font-size=\"14.00\">value = [0.501, 0.499]</text>\n",
       "<text text-anchor=\"middle\" x=\"853.5\" y=\"-7.8\" font-family=\"Helvetica,sans-Serif\" font-size=\"14.00\">class = high_bike_demand</text>\n",
       "</g>\n",
       "<!-- 7&#45;&gt;9 -->\n",
       "<g id=\"edge9\" class=\"edge\">\n",
       "<title>7&#45;&gt;9</title>\n",
       "<path fill=\"none\" stroke=\"black\" d=\"M790.15,-111.41C799.67,-99.93 810.03,-87.44 819.56,-75.94\"/>\n",
       "<polygon fill=\"black\" stroke=\"black\" points=\"822.31,-78.1 826,-68.17 816.93,-73.63 822.31,-78.1\"/>\n",
       "</g>\n",
       "<!-- 11 -->\n",
       "<g id=\"node12\" class=\"node\">\n",
       "<title>11</title>\n",
       "<path fill=\"#399de5\" stroke=\"black\" d=\"M1122,-68C1122,-68 973,-68 973,-68 967,-68 961,-62 961,-56 961,-56 961,-12 961,-12 961,-6 967,0 973,0 973,0 1122,0 1122,0 1128,0 1134,-6 1134,-12 1134,-12 1134,-56 1134,-56 1134,-62 1128,-68 1122,-68\"/>\n",
       "<text text-anchor=\"middle\" x=\"1047.5\" y=\"-52.8\" font-family=\"Helvetica,sans-Serif\" font-size=\"14.00\">gini = 0.0</text>\n",
       "<text text-anchor=\"middle\" x=\"1047.5\" y=\"-37.8\" font-family=\"Helvetica,sans-Serif\" font-size=\"14.00\">samples = 14.8%</text>\n",
       "<text text-anchor=\"middle\" x=\"1047.5\" y=\"-22.8\" font-family=\"Helvetica,sans-Serif\" font-size=\"14.00\">value = [0.0, 1.0]</text>\n",
       "<text text-anchor=\"middle\" x=\"1047.5\" y=\"-7.8\" font-family=\"Helvetica,sans-Serif\" font-size=\"14.00\">class = low_bike_demand</text>\n",
       "</g>\n",
       "<!-- 10&#45;&gt;11 -->\n",
       "<g id=\"edge11\" class=\"edge\">\n",
       "<title>10&#45;&gt;11</title>\n",
       "<path fill=\"none\" stroke=\"black\" d=\"M1047.5,-111.41C1047.5,-100.7 1047.5,-89.12 1047.5,-78.28\"/>\n",
       "<polygon fill=\"black\" stroke=\"black\" points=\"1051,-78.17 1047.5,-68.17 1044,-78.17 1051,-78.17\"/>\n",
       "</g>\n",
       "<!-- 12 -->\n",
       "<g id=\"node13\" class=\"node\">\n",
       "<title>12</title>\n",
       "<path fill=\"#49a5e7\" stroke=\"black\" d=\"M1313,-68C1313,-68 1164,-68 1164,-68 1158,-68 1152,-62 1152,-56 1152,-56 1152,-12 1152,-12 1152,-6 1158,0 1164,0 1164,0 1313,0 1313,0 1319,0 1325,-6 1325,-12 1325,-12 1325,-56 1325,-56 1325,-62 1319,-68 1313,-68\"/>\n",
       "<text text-anchor=\"middle\" x=\"1238.5\" y=\"-52.8\" font-family=\"Helvetica,sans-Serif\" font-size=\"14.00\">gini = 0.142</text>\n",
       "<text text-anchor=\"middle\" x=\"1238.5\" y=\"-37.8\" font-family=\"Helvetica,sans-Serif\" font-size=\"14.00\">samples = 1.2%</text>\n",
       "<text text-anchor=\"middle\" x=\"1238.5\" y=\"-22.8\" font-family=\"Helvetica,sans-Serif\" font-size=\"14.00\">value = [0.077, 0.923]</text>\n",
       "<text text-anchor=\"middle\" x=\"1238.5\" y=\"-7.8\" font-family=\"Helvetica,sans-Serif\" font-size=\"14.00\">class = low_bike_demand</text>\n",
       "</g>\n",
       "<!-- 10&#45;&gt;12 -->\n",
       "<g id=\"edge12\" class=\"edge\">\n",
       "<title>10&#45;&gt;12</title>\n",
       "<path fill=\"none\" stroke=\"black\" d=\"M1113.77,-111.41C1133.85,-99.1 1155.85,-85.63 1175.7,-73.47\"/>\n",
       "<polygon fill=\"black\" stroke=\"black\" points=\"1177.66,-76.38 1184.36,-68.17 1174,-70.41 1177.66,-76.38\"/>\n",
       "</g>\n",
       "</g>\n",
       "</svg>\n"
      ],
      "text/plain": [
       "<graphviz.sources.Source at 0x25df98a9610>"
      ]
     },
     "execution_count": 21,
     "metadata": {},
     "output_type": "execute_result"
    }
   ],
   "source": [
    "from sklearn.tree import export_graphviz\n",
    "\n",
    "dot_data = export_graphviz(model, feature_names=X_train.columns, class_names=model.classes_, filled=True, rounded=True, leaves_parallel=True, proportion=True)\n",
    "\n",
    "graph = graphviz.Source(dot_data)\n",
    "graph"
   ]
  },
  {
   "cell_type": "markdown",
   "metadata": {},
   "source": [
    "# hejjho"
   ]
  },
  {
   "cell_type": "code",
   "execution_count": 22,
   "metadata": {},
   "outputs": [
    {
     "data": {
      "application/vnd.jupyter.widget-view+json": {
       "model_id": "6473bd2446704bec8753339b5f321af7",
       "version_major": 2,
       "version_minor": 0
      },
      "text/plain": [
       "Summarize dataset:   0%|          | 0/5 [00:00<?, ?it/s]"
      ]
     },
     "metadata": {},
     "output_type": "display_data"
    },
    {
     "data": {
      "application/vnd.jupyter.widget-view+json": {
       "model_id": "40ae2c79da61465bb155bb90f75c22c2",
       "version_major": 2,
       "version_minor": 0
      },
      "text/plain": [
       "Generate report structure:   0%|          | 0/1 [00:00<?, ?it/s]"
      ]
     },
     "metadata": {},
     "output_type": "display_data"
    },
    {
     "data": {
      "application/vnd.jupyter.widget-view+json": {
       "model_id": "672fb74f5e82435fbffddda0321fb9a7",
       "version_major": 2,
       "version_minor": 0
      },
      "text/plain": [
       "Render HTML:   0%|          | 0/1 [00:00<?, ?it/s]"
      ]
     },
     "metadata": {},
     "output_type": "display_data"
    },
    {
     "data": {
      "application/vnd.jupyter.widget-view+json": {
       "model_id": "7d8697df7fe346268da5499dcc549359",
       "version_major": 2,
       "version_minor": 0
      },
      "text/plain": [
       "Export report to file:   0%|          | 0/1 [00:00<?, ?it/s]"
      ]
     },
     "metadata": {},
     "output_type": "display_data"
    }
   ],
   "source": [
    "# Import libraries\n",
    "import pandas as pd\n",
    "from ydata_profiling import ProfileReport\n",
    "\n",
    "# Load the data\n",
    "df = pd.read_csv(\"data/training_data.csv\")\n",
    "\n",
    "# Produce and save the profiling report\n",
    "profile = ProfileReport(df,title=\"HCC Profile Report\")\n",
    "profile.to_file(\"report.html\")"
   ]
  }
 ],
 "metadata": {
  "kernelspec": {
   "display_name": "base",
   "language": "python",
   "name": "python3"
  },
  "language_info": {
   "codemirror_mode": {
    "name": "ipython",
    "version": 3
   },
   "file_extension": ".py",
   "mimetype": "text/x-python",
   "name": "python",
   "nbconvert_exporter": "python",
   "pygments_lexer": "ipython3",
   "version": "3.11.4"
  }
 },
 "nbformat": 4,
 "nbformat_minor": 2
}
